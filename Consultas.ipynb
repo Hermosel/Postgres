{
 "cells": [
  {
   "cell_type": "code",
   "execution_count": 1,
   "id": "3ca3cc5c",
   "metadata": {},
   "outputs": [
    {
     "name": "stdout",
     "output_type": "stream",
     "text": [
      "('Laptop ProX', Decimal('1299.99'))\n",
      "('Monitor UltraHD', Decimal('349.50'))\n"
     ]
    }
   ],
   "source": [
    "import psycopg2\n",
    "\n",
    "conn = psycopg2.connect(\"host=localhost dbname=analisis_datos user=postgres password=micontraseña\")\n",
    "cur = conn.cursor()\n",
    "cur.execute(\"SELECT nombre, precio FROM ventas.productos WHERE categoria = %s\", (\"Electrónicos\",))\n",
    "productos = cur.fetchall()\n",
    "for producto in productos:\n",
    "    print(producto)\n",
    "cur.close()\n",
    "conn.close()\n"
   ]
  }
 ],
 "metadata": {
  "kernelspec": {
   "display_name": "Python 3",
   "language": "python",
   "name": "python3"
  },
  "language_info": {
   "codemirror_mode": {
    "name": "ipython",
    "version": 3
   },
   "file_extension": ".py",
   "mimetype": "text/x-python",
   "name": "python",
   "nbconvert_exporter": "python",
   "pygments_lexer": "ipython3",
   "version": "3.12.1"
  }
 },
 "nbformat": 4,
 "nbformat_minor": 5
}
